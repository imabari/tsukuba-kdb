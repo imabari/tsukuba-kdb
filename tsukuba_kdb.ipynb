{
  "nbformat": 4,
  "nbformat_minor": 0,
  "metadata": {
    "colab": {
      "name": "tsukuba-kdb.ipynb",
      "provenance": [],
      "collapsed_sections": [],
      "authorship_tag": "ABX9TyO1g/kQoXwzupxX5+EeeFBz",
      "include_colab_link": true
    },
    "kernelspec": {
      "name": "python3",
      "display_name": "Python 3"
    },
    "language_info": {
      "name": "python"
    }
  },
  "cells": [
    {
      "cell_type": "markdown",
      "metadata": {
        "id": "view-in-github",
        "colab_type": "text"
      },
      "source": [
        "<a href=\"https://colab.research.google.com/github/imabari/tsukuba-kdb/blob/main/tsukuba_kdb.ipynb\" target=\"_parent\"><img src=\"https://colab.research.google.com/assets/colab-badge.svg\" alt=\"Open In Colab\"/></a>"
      ]
    },
    {
      "cell_type": "code",
      "metadata": {
        "id": "fkQA0xDKjX31"
      },
      "source": [
        "import pathlib\n",
        "import json"
      ],
      "execution_count": 1,
      "outputs": []
    },
    {
      "cell_type": "code",
      "metadata": {
        "id": "Wgt_f9qzkkeV"
      },
      "source": [
        "import pandas as pd\n",
        "import requests"
      ],
      "execution_count": 2,
      "outputs": []
    },
    {
      "cell_type": "code",
      "metadata": {
        "id": "agCIA8LlknDN"
      },
      "source": [
        "def fetch_file(url, dir=\".\"):\n",
        "\n",
        "    p = pathlib.Path(dir, pathlib.PurePath(url).name)\n",
        "    p.parent.mkdir(parents=True, exist_ok=True)\n",
        "\n",
        "    r = requests.get(url)\n",
        "    r.raise_for_status()\n",
        "\n",
        "    with p.open(mode=\"wb\") as fw:\n",
        "        fw.write(r.content)\n",
        "    return p"
      ],
      "execution_count": 3,
      "outputs": []
    },
    {
      "cell_type": "code",
      "metadata": {
        "id": "rwDXIoyWk2yV"
      },
      "source": [
        "url = \"https://github.com/Make-IT-TSUKUBA/alternative-tsukuba-kdb/raw/master/kdb_20210404.xlsx\""
      ],
      "execution_count": 4,
      "outputs": []
    },
    {
      "cell_type": "code",
      "metadata": {
        "id": "Z38plTAzkw_d"
      },
      "source": [
        "xlsx_path = fetch_file(url)"
      ],
      "execution_count": 5,
      "outputs": []
    },
    {
      "cell_type": "code",
      "metadata": {
        "id": "4QyFt8oJfM5-"
      },
      "source": [
        "df = pd.read_excel(\n",
        "    xlsx_path,\n",
        "    skiprows=3,\n",
        "    header=None,\n",
        "    usecols=[0, 2, 3, 4, 5, 6, 7, 8, 9, 10, 11, 17, 18, 19],\n",
        ")"
      ],
      "execution_count": 6,
      "outputs": []
    },
    {
      "cell_type": "code",
      "metadata": {
        "colab": {
          "base_uri": "https://localhost:8080/",
          "height": 858
        },
        "id": "IXMktVcJo6vF",
        "outputId": "dfa45dae-b3a1-42f8-d948-71b4923f4429"
      },
      "source": [
        "df"
      ],
      "execution_count": 7,
      "outputs": [
        {
          "output_type": "execute_result",
          "data": {
            "text/html": [
              "<div>\n",
              "<style scoped>\n",
              "    .dataframe tbody tr th:only-of-type {\n",
              "        vertical-align: middle;\n",
              "    }\n",
              "\n",
              "    .dataframe tbody tr th {\n",
              "        vertical-align: top;\n",
              "    }\n",
              "\n",
              "    .dataframe thead th {\n",
              "        text-align: right;\n",
              "    }\n",
              "</style>\n",
              "<table border=\"1\" class=\"dataframe\">\n",
              "  <thead>\n",
              "    <tr style=\"text-align: right;\">\n",
              "      <th></th>\n",
              "      <th>0</th>\n",
              "      <th>2</th>\n",
              "      <th>3</th>\n",
              "      <th>4</th>\n",
              "      <th>5</th>\n",
              "      <th>6</th>\n",
              "      <th>7</th>\n",
              "      <th>8</th>\n",
              "      <th>9</th>\n",
              "      <th>10</th>\n",
              "      <th>11</th>\n",
              "      <th>17</th>\n",
              "      <th>18</th>\n",
              "      <th>19</th>\n",
              "    </tr>\n",
              "  </thead>\n",
              "  <tbody>\n",
              "    <tr>\n",
              "      <th>0</th>\n",
              "      <td>フレッシュマン・セミナー</td>\n",
              "      <td>NaN</td>\n",
              "      <td>NaN</td>\n",
              "      <td>NaN</td>\n",
              "      <td>NaN</td>\n",
              "      <td>NaN</td>\n",
              "      <td>NaN</td>\n",
              "      <td>NaN</td>\n",
              "      <td>NaN</td>\n",
              "      <td>NaN</td>\n",
              "      <td>NaN</td>\n",
              "      <td>NaN</td>\n",
              "      <td>NaN</td>\n",
              "      <td>NaN</td>\n",
              "    </tr>\n",
              "    <tr>\n",
              "      <th>1</th>\n",
              "      <td>科目番号</td>\n",
              "      <td>科目名</td>\n",
              "      <td>授業方法</td>\n",
              "      <td>単位数</td>\n",
              "      <td>標準履修年次</td>\n",
              "      <td>実施学期</td>\n",
              "      <td>曜時限</td>\n",
              "      <td>教室</td>\n",
              "      <td>担当教員</td>\n",
              "      <td>授業概要</td>\n",
              "      <td>備考</td>\n",
              "      <td>データ更新日</td>\n",
              "      <td>NaN</td>\n",
              "      <td>NaN</td>\n",
              "    </tr>\n",
              "    <tr>\n",
              "      <th>2</th>\n",
              "      <td>1101102</td>\n",
              "      <td>フレッシュマン・セミナー</td>\n",
              "      <td>2</td>\n",
              "      <td>1.0</td>\n",
              "      <td>1</td>\n",
              "      <td>春AB</td>\n",
              "      <td>金2</td>\n",
              "      <td>NaN</td>\n",
              "      <td>保呂 篤彦</td>\n",
              "      <td>大学生活について知識と理解を深め、学問研究への動機づけを高める。とくに人文学類における各主専...</td>\n",
              "      <td>人文1クラス対象\\n対面</td>\n",
              "      <td>2021-02-24 19:33:14</td>\n",
              "      <td>フレッシュマン・セミナー</td>\n",
              "      <td>NaN</td>\n",
              "    </tr>\n",
              "    <tr>\n",
              "      <th>3</th>\n",
              "      <td>1101202</td>\n",
              "      <td>フレッシュマン・セミナー</td>\n",
              "      <td>2</td>\n",
              "      <td>1.0</td>\n",
              "      <td>1</td>\n",
              "      <td>春AB</td>\n",
              "      <td>金2</td>\n",
              "      <td>NaN</td>\n",
              "      <td>田中 友香理</td>\n",
              "      <td>大学生活について知識と理解を深め、学問研究への動機づけを高める。とくに人文学類における各主専...</td>\n",
              "      <td>人文2クラス対象\\n対面</td>\n",
              "      <td>2021-02-24 19:34:03</td>\n",
              "      <td>フレッシュマン・セミナー</td>\n",
              "      <td>NaN</td>\n",
              "    </tr>\n",
              "    <tr>\n",
              "      <th>4</th>\n",
              "      <td>1101302</td>\n",
              "      <td>フレッシュマン・セミナー</td>\n",
              "      <td>2</td>\n",
              "      <td>1.0</td>\n",
              "      <td>1</td>\n",
              "      <td>春AB</td>\n",
              "      <td>金2</td>\n",
              "      <td>NaN</td>\n",
              "      <td>前田 修</td>\n",
              "      <td>大学生活について知識と理解を深め、学問研究への動機づけを高める。とくに人文学類における各主専...</td>\n",
              "      <td>人文3クラス対象\\n対面</td>\n",
              "      <td>2021-02-24 19:34:49</td>\n",
              "      <td>フレッシュマン・セミナー</td>\n",
              "      <td>NaN</td>\n",
              "    </tr>\n",
              "    <tr>\n",
              "      <th>...</th>\n",
              "      <td>...</td>\n",
              "      <td>...</td>\n",
              "      <td>...</td>\n",
              "      <td>...</td>\n",
              "      <td>...</td>\n",
              "      <td>...</td>\n",
              "      <td>...</td>\n",
              "      <td>...</td>\n",
              "      <td>...</td>\n",
              "      <td>...</td>\n",
              "      <td>...</td>\n",
              "      <td>...</td>\n",
              "      <td>...</td>\n",
              "      <td>...</td>\n",
              "    </tr>\n",
              "    <tr>\n",
              "      <th>8126</th>\n",
              "      <td>XJ21332</td>\n",
              "      <td>キャリア支援日本語 上級メディアリテラシーA</td>\n",
              "      <td>2</td>\n",
              "      <td>—</td>\n",
              "      <td>1 - 6</td>\n",
              "      <td>春C</td>\n",
              "      <td>金3,4</td>\n",
              "      <td>NaN</td>\n",
              "      <td>山本 千波</td>\n",
              "      <td>日本の産業や経済、就職に関する情報を得るためのメディアリテラシーを身につけることを目指す。J...</td>\n",
              "      <td>外国人留学生が受講できる。 人数制限あり。(25名程度)\\nオンライン(同時双方向型)\\n詳...</td>\n",
              "      <td>2019-05-28 00:00:00</td>\n",
              "      <td>English Courses</td>\n",
              "      <td>NaN</td>\n",
              "    </tr>\n",
              "    <tr>\n",
              "      <th>8127</th>\n",
              "      <td>XJ21342</td>\n",
              "      <td>キャリア支援日本語 中級メディアリテラシーA</td>\n",
              "      <td>2</td>\n",
              "      <td>—</td>\n",
              "      <td>1 - 6</td>\n",
              "      <td>春C</td>\n",
              "      <td>水1,2</td>\n",
              "      <td>NaN</td>\n",
              "      <td>山本 千波</td>\n",
              "      <td>日本の産業や経済、就職に関する情報を得るためのメディアリテラシーを身につけることを目指す。J...</td>\n",
              "      <td>外国人留学生が受講できる。 人数制限あり。(25名程度)\\nオンライン(同時双方向型)\\n詳...</td>\n",
              "      <td>2019-05-28 00:00:00</td>\n",
              "      <td>English Courses</td>\n",
              "      <td>NaN</td>\n",
              "    </tr>\n",
              "    <tr>\n",
              "      <th>8128</th>\n",
              "      <td>XJ21352</td>\n",
              "      <td>キャリア支援日本語 連絡コミュニケーションA</td>\n",
              "      <td>2</td>\n",
              "      <td>—</td>\n",
              "      <td>1 - 6</td>\n",
              "      <td>春C</td>\n",
              "      <td>水5,6</td>\n",
              "      <td>NaN</td>\n",
              "      <td>金子 信子</td>\n",
              "      <td>就職活動や就業で必要な連絡(エントリーシート、eメール、電話など)の方法を身につけることを目...</td>\n",
              "      <td>外国人留学生が受講できる。 人数制限あり。(25名程度)\\nオンライン(同時双方向型)\\n詳...</td>\n",
              "      <td>2021-02-05 15:27:44</td>\n",
              "      <td>English Courses</td>\n",
              "      <td>NaN</td>\n",
              "    </tr>\n",
              "    <tr>\n",
              "      <th>8129</th>\n",
              "      <td>XJ22012</td>\n",
              "      <td>集中日本語D000A</td>\n",
              "      <td>2</td>\n",
              "      <td>—</td>\n",
              "      <td>1 - 6</td>\n",
              "      <td>春ABC</td>\n",
              "      <td>月・火・水・木・金1-4</td>\n",
              "      <td>NaN</td>\n",
              "      <td>関崎 博紀,文 昶允,チョーハン アヌブティ</td>\n",
              "      <td>日常生活、大学生活に必要な日本語力を総合的につける。レベルによっては、プレゼンテーションやレ...</td>\n",
              "      <td>外国人留学生が受講できる。\\nオンライン(同時双方向型)\\n詳細は授業内で、またはmanab...</td>\n",
              "      <td>2016-01-08 00:00:00</td>\n",
              "      <td>English Courses</td>\n",
              "      <td>NaN</td>\n",
              "    </tr>\n",
              "    <tr>\n",
              "      <th>8130</th>\n",
              "      <td>XJ23012</td>\n",
              "      <td>集中日本語D000B</td>\n",
              "      <td>2</td>\n",
              "      <td>—</td>\n",
              "      <td>1 - 6</td>\n",
              "      <td>秋ABC</td>\n",
              "      <td>月・火・水・木・金1-4</td>\n",
              "      <td>NaN</td>\n",
              "      <td>関崎 博紀,文 昶允,チョーハン アヌブティ</td>\n",
              "      <td>日常生活、大学生活に必要な日本語力を総合的につける。レベルによっては、プレゼンテーションやレ...</td>\n",
              "      <td>外国人留学生が受講できる。\\nオンライン(同時双方向型)\\n詳細は授業内で、またはmanab...</td>\n",
              "      <td>2020-09-09 00:00:00</td>\n",
              "      <td>English Courses</td>\n",
              "      <td>NaN</td>\n",
              "    </tr>\n",
              "  </tbody>\n",
              "</table>\n",
              "<p>8131 rows × 14 columns</p>\n",
              "</div>"
            ],
            "text/plain": [
              "                0                       2   ...               18   19\n",
              "0     フレッシュマン・セミナー                     NaN  ...              NaN  NaN\n",
              "1             科目番号                     科目名  ...              NaN  NaN\n",
              "2          1101102            フレッシュマン・セミナー  ...     フレッシュマン・セミナー  NaN\n",
              "3          1101202            フレッシュマン・セミナー  ...     フレッシュマン・セミナー  NaN\n",
              "4          1101302            フレッシュマン・セミナー  ...     フレッシュマン・セミナー  NaN\n",
              "...            ...                     ...  ...              ...  ...\n",
              "8126       XJ21332  キャリア支援日本語 上級メディアリテラシーA  ...  English Courses  NaN\n",
              "8127       XJ21342  キャリア支援日本語 中級メディアリテラシーA  ...  English Courses  NaN\n",
              "8128       XJ21352  キャリア支援日本語 連絡コミュニケーションA  ...  English Courses  NaN\n",
              "8129       XJ22012              集中日本語D000A  ...  English Courses  NaN\n",
              "8130       XJ23012              集中日本語D000B  ...  English Courses  NaN\n",
              "\n",
              "[8131 rows x 14 columns]"
            ]
          },
          "metadata": {
            "tags": []
          },
          "execution_count": 7
        }
      ]
    },
    {
      "cell_type": "code",
      "metadata": {
        "id": "dEpDaeDphZ21"
      },
      "source": [
        "df.to_csv(\"data.csv\")"
      ],
      "execution_count": 8,
      "outputs": []
    },
    {
      "cell_type": "code",
      "metadata": {
        "id": "k0yV3ery4nvA"
      },
      "source": [
        "df.dropna(subset=[0], inplace=True)"
      ],
      "execution_count": 9,
      "outputs": []
    },
    {
      "cell_type": "code",
      "metadata": {
        "id": "lDyzAuIs4MD3"
      },
      "source": [
        "df[20] = df[0].shift()\n",
        "df[20] = df[20].where(df[0] == \"科目番号\").fillna(method=\"ffill\")"
      ],
      "execution_count": 10,
      "outputs": []
    },
    {
      "cell_type": "code",
      "metadata": {
        "colab": {
          "base_uri": "https://localhost:8080/"
        },
        "id": "7A1aXfCriZFk",
        "outputId": "9ae75ab1-415a-4114-ce8d-fca876424635"
      },
      "source": [
        "df.notnull().sum(axis=1).value_counts()"
      ],
      "execution_count": 11,
      "outputs": [
        {
          "output_type": "execute_result",
          "data": {
            "text/plain": [
              "13    3821\n",
              "14    2749\n",
              "10     700\n",
              "3      283\n",
              "12     206\n",
              "15     143\n",
              "11      57\n",
              "9       53\n",
              "2       30\n",
              "4       12\n",
              "1        1\n",
              "dtype: int64"
            ]
          },
          "metadata": {
            "tags": []
          },
          "execution_count": 11
        }
      ]
    },
    {
      "cell_type": "code",
      "metadata": {
        "id": "mXE0IRT2pdp2"
      },
      "source": [
        "df1 = df[df[0] != \"科目番号\"].dropna(thresh=5)"
      ],
      "execution_count": 12,
      "outputs": []
    },
    {
      "cell_type": "code",
      "metadata": {
        "id": "m4KApLEAj-jN"
      },
      "source": [
        "df1.fillna(\"\", inplace=True)"
      ],
      "execution_count": 13,
      "outputs": []
    },
    {
      "cell_type": "code",
      "metadata": {
        "id": "UPahcnfIc5sy"
      },
      "source": [
        "df1[10] = df1[10].apply(lambda s: \"\\n\".join([i.strip() for i in s.strip().splitlines()]))\n",
        "df1[11] = df1[11].apply(lambda s: \"\\n\".join([i.strip() for i in s.strip().splitlines()]))"
      ],
      "execution_count": 14,
      "outputs": []
    },
    {
      "cell_type": "code",
      "metadata": {
        "id": "dFpaxyjnaZSJ"
      },
      "source": [
        "result = []\n",
        "\n",
        "for d in df1.values.tolist():\n",
        "\n",
        "    if not d[13]:\n",
        "        d.pop(13)\n",
        "\n",
        "    result.append(d)"
      ],
      "execution_count": 15,
      "outputs": []
    },
    {
      "cell_type": "code",
      "metadata": {
        "id": "RWF75PCejW5F"
      },
      "source": [
        "with open(\"kdb.json\", \"w\", encoding=\"utf-8\") as fp:\n",
        "    json.dump(result, fp, indent=\"\\t\", ensure_ascii=False)"
      ],
      "execution_count": 16,
      "outputs": []
    }
  ]
}